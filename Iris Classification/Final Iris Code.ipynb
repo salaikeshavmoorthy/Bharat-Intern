{
 "cells": [
  {
   "cell_type": "code",
   "execution_count": null,
   "id": "efaa5d6c",
   "metadata": {},
   "outputs": [],
   "source": [
    "import pickle"
   ]
  },
  {
   "cell_type": "code",
   "execution_count": null,
   "id": "f21984c3",
   "metadata": {},
   "outputs": [],
   "source": [
    "model=pickle.load(open(\"Model.pkl\",\"rb\"))"
   ]
  },
  {
   "cell_type": "code",
   "execution_count": 3,
   "id": "5a0ffba4",
   "metadata": {},
   "outputs": [
    {
     "data": {
      "text/plain": [
       "LogisticRegression(max_iter=3000, random_state=0)"
      ]
     },
     "execution_count": 3,
     "metadata": {},
     "output_type": "execute_result"
    }
   ],
   "source": [
    "model"
   ]
  },
  {
   "cell_type": "code",
   "execution_count": 4,
   "id": "4a5a6b5d",
   "metadata": {},
   "outputs": [
    {
     "name": "stdout",
     "output_type": "stream",
     "text": [
      "Enter the sepal length : 6.3\n",
      "Enter the sepal width : 2.5\n",
      "Enter the petal length : 5.0\n",
      "Enter the petal width : 1.0\n",
      "[[0.00147134 0.79474754 0.20378112]]\n",
      "79.47 % it is  Iris-versicolor\n"
     ]
    }
   ],
   "source": [
    "sl=float(input('Enter the sepal length : '))\n",
    "sw=float(input('Enter the sepal width : '))\n",
    "pl=float(input('Enter the petal length : '))\n",
    "pw=float(input('Enter the petal width : '))\n",
    "result=model.predict([[sl,sw,pl,pw]])\n",
    "result_percentage=model.predict_proba([[sl,sw,pl,pw]])\n",
    "print(result_percentage)\n",
    "print(round(max(result_percentage[0])*100,2),'% it is ',result[0])"
   ]
  },
  {
   "cell_type": "code",
   "execution_count": 6,
   "id": "c8ccd435",
   "metadata": {},
   "outputs": [],
   "source": [
    "#tkinter"
   ]
  },
  {
   "cell_type": "code",
   "execution_count": null,
   "id": "060992a9",
   "metadata": {},
   "outputs": [],
   "source": []
  }
 ],
 "metadata": {
  "kernelspec": {
   "display_name": "Python 3 (ipykernel)",
   "language": "python",
   "name": "python3"
  },
  "language_info": {
   "codemirror_mode": {
    "name": "ipython",
    "version": 3
   },
   "file_extension": ".py",
   "mimetype": "text/x-python",
   "name": "python",
   "nbconvert_exporter": "python",
   "pygments_lexer": "ipython3",
   "version": "3.9.7"
  }
 },
 "nbformat": 4,
 "nbformat_minor": 5
}
